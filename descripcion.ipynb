{
 "cells": [
  {
   "cell_type": "markdown",
   "metadata": {},
   "source": [
    "#### 1a. Hacer un programa que cargue una imagen y que obtenga y muestre el valor RGB de cada píxel de la imagen sobre el que esté el cursor del ratón."
   ]
  },
  {
   "cell_type": "code",
   "execution_count": null,
   "metadata": {},
   "outputs": [],
   "source": [
    "\"\"\"- def mouse_event()\n",
    "    - evento del ratón\n",
    "    - (x,y) punto\n",
    "    - flags: Modificadores del evento (teclas presionadas, etc.)\n",
    "    - param: Parámetro adicional (aquí no se utiliza)\n",
    "\n",
    "- img[:] = img_original.copy() -> eliminar el dibujo del rectángulo dibujado\n",
    "\n",
    "- cv.rectangle(imagen, \n",
    "            vértice superior izquierdo,\n",
    "            vértice inferior derecho,\n",
    "            color,\n",
    "            relleno)\n",
    "\n",
    "- cv.putText(imagen,\n",
    "            texto,\n",
    "            esquina inferior izquierda,\n",
    "            cv.FONT_HERSHEY_SIMPLEX -> fuente que se utiliza,\n",
    "            0.5 -> tamaño de la fuente,\n",
    "            color,\n",
    "            1 -> grosor de la línea,\n",
    "            cv.LINE_AA-> texto más suave y de mejor calidad)\n",
    "\n",
    "- cv.waitkey(0) -> en continua espera\n",
    "\"\"\""
   ]
  },
  {
   "cell_type": "markdown",
   "metadata": {},
   "source": [
    "### 1b. Hacer un programa para dibujar las siguientes primitivas con el ratón\n",
    "\n",
    "- Líneas\n",
    "- Rectángulos\n",
    "- Círculos\n",
    "- Especificar el color en RGB de las primitivas\n",
    "- Definir el grosor de las líneas"
   ]
  },
  {
   "cell_type": "code",
   "execution_count": null,
   "metadata": {},
   "outputs": [],
   "source": [
    "\"\"\"\n",
    "\n",
    "- def nothing(x) -> callback en las trackbars\n",
    "\n",
    "- def draw_shape(evento,x,y,flags,param):\n",
    "        Si cv.EVENT_LBUTTONDOWN -> se presiona el botón izquierdo: dibujar y punto de comienzo\n",
    "        Sino si  cv.EVENT_MOUSEMOVE -> se mueve el ratón: se van dibujando las formas cuando arrastras\n",
    "        sino si cv.EVENT_LBUTTONUP -> se levanta el botón izqdo: finaliza el dibujo, actualizando la imagen original con la forma seleccionada\n",
    "\n",
    "- cv.line(img_copy, \n",
    "        start_point, \n",
    "        (x, y) -> punto final,\n",
    "        color, \n",
    "        thickness)\n",
    "\n",
    "- radius = ((x_actual - x_inicio) * 2 + (y_actual - y_inicio)*2)**0.5\n",
    "- cv.circle(img, \n",
    "        start_point, \n",
    "        radius, \n",
    "        color, \n",
    "        thickness)\n",
    "\n",
    "- def change_color(r, g, b)\n",
    "- def change_thickness(new_thickness)\n",
    "\n",
    "- while True:\n",
    "    mostrar imagen\n",
    "    key = cv.waitKey(1) & 0xFF -> esperar por una tecla para cmabiar el modo\n",
    "    cambiar color y thickness\n",
    "    tecla m -> cambiar de modo\n",
    "    tecla q -> salir\n",
    "    tecla d -> borrar todo\n",
    "\n",
    "\"\"\""
   ]
  },
  {
   "cell_type": "markdown",
   "metadata": {},
   "source": [
    "### 2. Mejoras del programa:\n",
    "\n",
    "- Permitir crear figuras rellenas (seleccionar a través de la interfaz)"
   ]
  },
  {
   "cell_type": "code",
   "execution_count": null,
   "metadata": {},
   "outputs": [],
   "source": [
    "\"\"\"\n",
    "\n",
    "cv.createTrackbar('Filled', 'image', 0, 1, nothing)\n",
    "\n",
    "thickness if not filled else -1 -> grosor si no está relleno, sino relleno\n",
    "\n",
    "\"\"\""
   ]
  },
  {
   "cell_type": "markdown",
   "metadata": {},
   "source": [
    "- Poder crear otras primitivas (construir polilíneas y polígonos, elipses…)"
   ]
  },
  {
   "cell_type": "code",
   "execution_count": null,
   "metadata": {},
   "outputs": [],
   "source": [
    "\"\"\"\n",
    "ELIPSE:\n",
    "\n",
    "axes = (abs(eje horizonatl), abs(eje vertical))\n",
    "\n",
    "cv.ellipse(img_copy, \n",
    "            start_point, \n",
    "            axes, \n",
    "            0 -> ángulo de rotación 0,\n",
    "            0 ,360 -> ángulo de inicio y fin -> se dibuja completa\n",
    "            color, \n",
    "            thickness if not filled else -1)\n",
    "\n",
    "\n",
    "POLILÍNEA:\n",
    "\n",
    "cv.polylines(img_copy, \n",
    "            [np.array(points)]->  lista de puntos (coordenadas (x, y)) que definen los vértices del polígono o las líneas,\n",
    "            mode == 'polygon', \n",
    "            color, \n",
    "            thickness)\n",
    "\n",
    "# Cerrar la polilínea\n",
    "elif key == ord('c'):\n",
    "        if len(points) > 2:\n",
    "            cv.polylines(img, [np.array(points)], isClosed=True, color=(0, 0, 255), thickness=thickness)\n",
    "            cv.imshow('image', img)\n",
    "            points = []\n",
    "\n",
    "\"\"\""
   ]
  },
  {
   "cell_type": "markdown",
   "metadata": {},
   "source": [
    "- Guardar el dibujo como un vídeo para ver cómo se realizó paso a paso"
   ]
  },
  {
   "cell_type": "code",
   "execution_count": null,
   "metadata": {},
   "outputs": [],
   "source": [
    "\"\"\"\n",
    "# Dimensiones de la imagen y creación del video\n",
    "height, width, layers = img.shape\n",
    "\n",
    "video = cv.VideoWriter('drawing.mp4', \n",
    "                    cv.VideoWriter_fourcc(*'MP4V'), \n",
    "                    160 -> fps, \n",
    "                    (width, height)\n",
    "                    )\n",
    "\n",
    "while True:\n",
    "    video.write(img)\n",
    "    \n",
    "\"\"\""
   ]
  },
  {
   "cell_type": "markdown",
   "metadata": {},
   "source": [
    "- Aportación propia: retroceder una acción"
   ]
  },
  {
   "cell_type": "code",
   "execution_count": null,
   "metadata": {},
   "outputs": [],
   "source": [
    "\"\"\"\n",
    "elif key == ord('r') and actions:\n",
    "        actions.pop()\n",
    "        if actions:\n",
    "            img = actions[-1].copy()\n",
    "        else:\n",
    "            img = img_orig.copy()\n",
    "        cv.imshow('image', img)\n",
    "\"\"\""
   ]
  },
  {
   "cell_type": "markdown",
   "metadata": {},
   "source": [
    "- Aportación propia: limpiar toda la imagen"
   ]
  },
  {
   "cell_type": "code",
   "execution_count": null,
   "metadata": {},
   "outputs": [],
   "source": [
    "\"\"\"\n",
    "\n",
    "elif key == ord('d'):\n",
    "        img = img_orig.copy()\n",
    "        cv.imshow('image', img)\n",
    "        actions = []\n",
    "        \n",
    "\"\"\""
   ]
  }
 ],
 "metadata": {
  "kernelspec": {
   "display_name": "piav",
   "language": "python",
   "name": "python3"
  },
  "language_info": {
   "name": "python",
   "version": "3.10.14"
  }
 },
 "nbformat": 4,
 "nbformat_minor": 2
}
